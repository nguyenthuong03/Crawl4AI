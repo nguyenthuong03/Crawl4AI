{
 "cells": [
  {
   "cell_type": "markdown",
   "metadata": {},
   "source": [
    "# Cài đặt"
   ]
  },
  {
   "cell_type": "markdown",
   "metadata": {},
   "source": [
    "## 1. Giới thiệu:  Crawl4AI: Công cụ thu thập và trích xuất dữ liệu web thân thiện với LLM mã nguồn mở\n",
    "Crawl4AI là kho lưu trữ GitHub thịnh hành số 1, được duy trì tích cực bởi một cộng đồng năng động. Kho lưu trữ này cung cấp khả năng thu thập dữ liệu web cực nhanh, hỗ trợ AI, được thiết kế riêng cho LLM, tác nhân AI và đường ống dữ liệu. Nguồn mở, linh hoạt và được xây dựng để có hiệu suất theo thời gian thực, Crawl4AI trao quyền cho các nhà phát triển với tốc độ, độ chính xác và khả năng triển khai dễ dàng không gì sánh bằng.\n"
   ]
  },
  {
   "cell_type": "markdown",
   "metadata": {},
   "source": [
    "## 2. Tại sao dùng Crawl4AI\n",
    "- **Được xây dựng cho LLM**:  Tạo Markdown thông minh, súc tích được tối ưu hóa cho RAG và các ứng dụng tinh chỉnh.\n",
    "- **Nhanh như chớp**: Mang lại kết quả nhanh hơn 6 lần với hiệu suất thời gian thực, tiết kiệm chi phí.\n",
    "- **Kiểm soát trình duyệt linh hoạt**: Cung cấp khả năng quản lý phiên, proxy và các hook tùy chỉnh để truy cập dữ liệu liền mạch.\n",
    "- **Trí tuệ Heuristic**: Sử dụng các thuật toán tiên tiến để trích xuất hiệu quả, giảm sự phụ thuộc vào các mô hình tốn kém.\n",
    "- **Mã nguồn mở và có thể triển khai**: Mã nguồn mở hoàn toàn, không cần khóa API—sẵn sàng cho Docker và tích hợp đám mây.\n",
    "- **Cộng đồng phát triển mạnh mẽ**: Được duy trì tích cực bởi một cộng đồng năng động và kho lưu trữ GitHub thịnh hành số 1.\n"
   ]
  },
  {
   "cell_type": "markdown",
   "metadata": {},
   "source": []
  },
  {
   "cell_type": "markdown",
   "metadata": {},
   "source": [
    "## 3. Cài đặt Crawl4AI\n",
    "### 3.1. Yêu cầu\n",
    "- Python 3.8+\n",
    "- 'pip' để cài thư viện\n",
    "### 3.2. Các bước cài đặt\n",
    "#### 3.2.1. Cài đặt cơ bản\n",
    "**pip install crawl4ai**<br>\n",
    "Điều này cài đặt thư viện Crawl4AI cốt lõi cùng với các phụ thuộc cần thiết.  Chưa có tính năng nâng cao nào (như transformers hoặc PyTorch) được bao gồm.\n",
    "#### 3.2.2. Thiết lập ban đầu & Chẩn đoán\n",
    "##### Chạy lệnh thiết lập\n",
    "Sau khi cài đặt, xác nhận môi trường của bạn đã sẵn sàng để thu thập dữ liệu\n",
    "**crawl4ai-setup**<br>\n",
    "Cài đặt hoặc cập nhật các trình duyệt Playwright cần thiết (Chromium, Firefox, v.v.) - Thực hiện kiểm tra cấp độ hệ điều hành (ví dụ: thiếu thư viện trên Linux)\n",
    "##### Chẩn đoán\n",
    "**crawl4ai-doctor**<br>\n",
    "Lệnh này cố gắng: - Kiểm tra khả năng tương thích của phiên bản Python - Xác minh cài đặt Playwright - Kiểm tra các biến môi trường hoặc xung đột thư viện.Nếu có bất kỳ vấn đề nào phát sinh, hãy làm theo các gợi ý (ví dụ: cài đặt các gói hệ thống bổ sung) và chạy lại crawl4ai-setup.\n",
    "\n"
   ]
  },
  {
   "cell_type": "markdown",
   "metadata": {},
   "source": [
    "## 4. Crawl\n",
    "- **Bước 1**: Chạy một trình thu thập dữ liệu web đơn giản bằng Python với trang \"https://www.nbcnews.com/business\"\n",
    "- **Bước 2**: Chạy trình thu thập dữ liệu web với trang amazon, output là image, rating, reviews_count, price\n",
    "- **Bước 3**: Chạy trình thu thập dữ liệu web với trang web cellphones, output loại bỏ phần không cần thiết của web, chuyển đổi thành dạng markdown\n",
    "- **Bước 4**: Chạy trình thu thập dữ liệu với trang web tai lieu hust, output là ảnh và pdf của trang web\n",
    "\n"
   ]
  },
  {
   "cell_type": "markdown",
   "metadata": {},
   "source": []
  }
 ],
 "metadata": {
  "kernelspec": {
   "display_name": "Python 3",
   "language": "python",
   "name": "python3"
  },
  "language_info": {
   "name": "python",
   "version": "3.11.7"
  }
 },
 "nbformat": 4,
 "nbformat_minor": 2
}
